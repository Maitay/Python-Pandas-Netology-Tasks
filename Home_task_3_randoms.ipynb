{
 "cells": [
  {
   "cell_type": "code",
   "execution_count": null,
   "metadata": {
    "id": "OhD9oBolRVSR"
   },
   "outputs": [],
   "source": [
    "import numpy.random as rand"
   ]
  },
  {
   "cell_type": "markdown",
   "metadata": {
    "id": "SiYUkm3yrhMO"
   },
   "source": [
    "Смоделировать игру против лотерейного автомата типа “777”. Игрок платит 1 руб., после чего выпадает случайное целое число, равномерно распределенное от 0 до 999. При некоторых значениях числа игрок получает выигрыш."
   ]
  },
  {
   "cell_type": "code",
   "execution_count": null,
   "metadata": {
    "colab": {
     "base_uri": "https://localhost:8080/"
    },
    "id": "d20X_t-dRkN_",
    "outputId": "09b31b7b-27e1-436f-ad82-aaaf524535f3"
   },
   "outputs": [
    {
     "name": "stdout",
     "output_type": "stream",
     "text": [
      "-0.209438\n"
     ]
    }
   ],
   "source": [
    "initial_expense = -1\n",
    "amount = initial_expense\n",
    "attempts = 1000000\n",
    "for i in range(attempts):\n",
    "  random_score = np.random.randint(0, 10, 3)\n",
    "  if random_score[0] == 7 and random_score[1] == 7 and random_score[2] == 7:\n",
    "    amount +=200\n",
    "  elif random_score[0] == 9 and random_score[1] == 9 and random_score[2] == 9:\n",
    "    amount +=100\n",
    "  elif random_score[0] == 5 and random_score[1] == 5 and random_score[2] == 5:\n",
    "    amount +=50\n",
    "  elif random_score[0] == 3 and random_score[1] == 3 and random_score[2] == 3:\n",
    "    amount +=15\n",
    "  elif random_score[0] == 1 and random_score[1] == 1 and random_score[2] == 1:\n",
    "    amount +=10\n",
    "  elif random_score[0] != 7 and random_score[1] == 7 and random_score[2] == 7:\n",
    "    amount +=5\n",
    "  elif random_score[1] != 7 and random_score[2] == 7:\n",
    "    amount +=3\n",
    "  elif random_score[1] == 0 and random_score[2] == 0:\n",
    "    amount +=2\n",
    "  elif random_score[1] != 0 and random_score[2] == 0:\n",
    "    amount +=1\n",
    "final = amount/attempts\n",
    "print(initial_expense + final)"
   ]
  },
  {
   "cell_type": "markdown",
   "metadata": {
    "id": "pack-A_esc66"
   },
   "source": [
    "Как видим, игра невыгодна игроку. В среднем с вложенного 1го рубля он теряет 20 копеек.\n",
    "Проверим это с помощью теоретического расчета:"
   ]
  },
  {
   "cell_type": "code",
   "execution_count": null,
   "metadata": {
    "colab": {
     "base_uri": "https://localhost:8080/"
    },
    "id": "knNJEspcrbhw",
    "outputId": "433573d5-7fd2-4261-c4c2-103a00c746c1"
   },
   "outputs": [
    {
     "name": "stdout",
     "output_type": "stream",
     "text": [
      "-0.20999999999999996\n"
     ]
    }
   ],
   "source": [
    "variations = 1000\n",
    "initial_expense = -1\n",
    "var777 = 1/variations\n",
    "var999 = 1/variations\n",
    "var555 = 1/variations\n",
    "var333 = 1/variations\n",
    "var111 = 1/variations\n",
    "var_77 = 9/variations\n",
    "var__7 = 90/variations\n",
    "var_00 = 10/variations\n",
    "var__0 = 90/variations\n",
    "earnings = var777*200 + var999*100 + var555*50 + var333*15 + var111*10 + var_77*5 + var__7*3 + var_00*1 + var__0*1\n",
    "print(initial_expense + earnings)"
   ]
  },
  {
   "cell_type": "code",
   "execution_count": null,
   "metadata": {
    "colab": {
     "base_uri": "https://localhost:8080/"
    },
    "id": "-vqH8sBUIbdE",
    "outputId": "208d4087-59ce-4da4-ab02-ff3eaace0f2f"
   },
   "outputs": [
    {
     "name": "stdout",
     "output_type": "stream",
     "text": [
      "0.786058\n"
     ]
    }
   ],
   "source": [
    "import numpy as np\n",
    "trials = 1000000\n",
    "successes = 0\n",
    "res = {777:200, 999:100, 555:50, 333:15, 111:10, 77:5, 7:3, 00:2, 0:1}\n",
    "\n",
    "for i in range(trials):\n",
    "    random_val = np.random.randint(0, 1000)\n",
    "\n",
    "    if random_val in res.keys():\n",
    "       successes += res[random_val]\n",
    "    elif random_val % 100 in res.keys():\n",
    "       successes += res[random_val % 100]\n",
    "    elif random_val % 10 in res.keys():\n",
    "       successes += res[random_val % 10]\n",
    "\n",
    "print(successes / trials)"
   ]
  }
 ],
 "metadata": {
  "colab": {
   "provenance": []
  },
  "kernelspec": {
   "display_name": "Python 3",
   "name": "python3"
  },
  "language_info": {
   "name": "python"
  }
 },
 "nbformat": 4,
 "nbformat_minor": 0
}
