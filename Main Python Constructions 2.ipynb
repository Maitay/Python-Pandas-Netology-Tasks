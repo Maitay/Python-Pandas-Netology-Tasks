{
  "nbformat": 4,
  "nbformat_minor": 0,
  "metadata": {
    "colab": {
      "provenance": []
    },
    "kernelspec": {
      "name": "python3",
      "display_name": "Python 3"
    },
    "language_info": {
      "name": "python"
    }
  },
  "cells": [
    {
      "cell_type": "markdown",
      "source": [
        "Задание 1\n",
        "Дана переменная, в которой хранится слово из латинских букв. Напишите код, который выводит на экран:\n",
        "\n",
        "среднюю букву, если число букв в слове нечетное;\n",
        "две средних буквы, если число букв четное."
      ],
      "metadata": {
        "id": "pMbVFC0b_6t8"
      }
    },
    {
      "cell_type": "markdown",
      "source": [],
      "metadata": {
        "id": "LCBuW9WRACxc"
      }
    },
    {
      "cell_type": "code",
      "source": [
        "word = input(str('Введите слово:'))\n",
        "length =len(word)\n",
        "center=int(length/2)\n",
        "if len(word) % 2 != 0:\n",
        "    print(word[center])\n",
        "else:\n",
        "  print(word[center-1:center+1])"
      ],
      "metadata": {
        "colab": {
          "base_uri": "https://localhost:8080/"
        },
        "id": "gK15YLKNADEz",
        "outputId": "28d5ba39-d8d6-4b80-80d6-e379d3c41348"
      },
      "execution_count": null,
      "outputs": [
        {
          "output_type": "stream",
          "name": "stdout",
          "text": [
            "Введите слово:Test\n",
            "es\n"
          ]
        }
      ]
    },
    {
      "cell_type": "markdown",
      "source": [
        "Задание 2. Напишите программу, которая последовательно запрашивает у пользователя числа (по одному за раз) и после первого нуля выводит сумму всех ранее введенных чисел."
      ],
      "metadata": {
        "id": "Q4MV7jJ9HLID"
      }
    },
    {
      "cell_type": "code",
      "source": [
        "word = int(input())\n",
        "count = 0\n",
        "while word != 0:\n",
        "  count += word\n",
        "  word = int(input())\n",
        "if word == 0:\n",
        "  print(count)"
      ],
      "metadata": {
        "id": "2NPZUsb6HSSz"
      },
      "execution_count": null,
      "outputs": []
    },
    {
      "cell_type": "markdown",
      "source": [
        "Задание 3. Мы делаем MVP dating-сервиса, и у нас есть список парней и девушек.\n",
        "Выдвигаем гипотезу: лучшие рекомендации мы получим, если просто отсортируем имена по алфавиту и познакомим людей с одинаковыми индексами после сортировки! Но мы не будем никого знакомить, если кто-то может остаться без пары:"
      ],
      "metadata": {
        "id": "dFE5k0VILBzj"
      }
    },
    {
      "cell_type": "code",
      "source": [
        "boys = ['Peter', 'Alex', 'John', 'Arthur', 'Richard']\n",
        "girls = ['Kate', 'Liza', 'Kira', 'Emma']\n",
        "print('Результат:')\n",
        "print('Идеальные пары:')\n",
        "for i,j in zip(boys, girls):\n",
        "  if len(boys) == len(girls):\n",
        "    print(i, 'и', j)\n",
        "for i,j in zip(boys, girls):\n",
        "  if len(boys) != len(girls):\n",
        "    print('Внимание, кто-то может остаться без пары!')\n",
        "    break"
      ],
      "metadata": {
        "id": "GajLRrVaMUeX"
      },
      "execution_count": null,
      "outputs": []
    },
    {
      "cell_type": "markdown",
      "source": [
        "Задание 4. У нас есть список, содержащий информацию о среднедневной температуре в Фаренгейтах за произвольный период по странам (структура данных в примере). Необходимо написать код, который рассчитает среднюю температуру за период в Цельсиях(!) для каждой страны."
      ],
      "metadata": {
        "id": "mL0lNPm9WPat"
      }
    },
    {
      "cell_type": "code",
      "source": [
        "from statistics import mean\n",
        "\n",
        "countries_temperature = [\n",
        "['Thailand', [75.2, 77, 78.8, 73.4, 68, 75.2, 77]],\n",
        "['Germany', [57.2, 55.4, 59, 59, 53.6]],\n",
        "['Russia', [35.6, 37.4, 39.2, 41, 42.8, 39.2, 35.6]],\n",
        "['Poland', [50, 50, 53.6, 57.2, 55.4, 55.4]]\n",
        "]\n",
        "new_list = []\n",
        "print('Результат:')\n",
        "print('Средняя температура в странах:')\n",
        "for i in countries_temperature:\n",
        "  mean_f = mean(i[1])\n",
        "  mean_c = ((mean_f-32) / 1.8)\n",
        "  print(i[0], '-', mean_c)\n"
      ],
      "metadata": {
        "colab": {
          "base_uri": "https://localhost:8080/"
        },
        "id": "XIUbVLvAWwM9",
        "outputId": "84d375fc-4292-4692-9218-2e1bd322274f"
      },
      "execution_count": null,
      "outputs": [
        {
          "output_type": "stream",
          "name": "stdout",
          "text": [
            "Результат:\n",
            "Средняя температура в странах:\n",
            "Thailand - 23.85714285714286\n",
            "Germany - 13.8\n",
            "Russia - 3.7142857142857126\n",
            "Poland - 12.0\n"
          ]
        }
      ]
    }
  ]
}