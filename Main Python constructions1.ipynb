{
  "nbformat": 4,
  "nbformat_minor": 0,
  "metadata": {
    "colab": {
      "provenance": []
    },
    "kernelspec": {
      "name": "python3",
      "display_name": "Python 3"
    },
    "language_info": {
      "name": "python"
    }
  },
  "cells": [
    {
      "cell_type": "code",
      "execution_count": null,
      "metadata": {
        "id": "_nDrtzKKncqL"
      },
      "outputs": [],
      "source": []
    },
    {
      "cell_type": "markdown",
      "source": [
        "Задача 1\n",
        "\n",
        "Дана переменная, в которой хранится словарь, содержащий гео-метки для каждого пользователя (пример структуры данных приведен ниже). Вам необходимо написать программу, которая выведет на экран множество уникальных гео-меток всех пользователей."
      ],
      "metadata": {
        "id": "FT9PqOS8nlan"
      }
    },
    {
      "cell_type": "code",
      "source": [
        "ids = {'user1': [213, 213, 213, 15, 213],\n",
        "'user2': [54, 54, 119, 119, 119],\n",
        "'user3': [213, 98, 98, 35]}\n",
        "list1 = []\n",
        "for i in ids.values():\n",
        "  list1.append(i)\n",
        "list2 = []\n",
        "for j in list1:\n",
        "  for h in j:\n",
        "    list2.append(h)\n",
        "print (list2)"
      ],
      "metadata": {
        "colab": {
          "base_uri": "https://localhost:8080/"
        },
        "id": "LrgCUBRwnnel",
        "outputId": "4f12292b-36ab-4118-881d-080b0e139d66"
      },
      "execution_count": null,
      "outputs": [
        {
          "output_type": "stream",
          "name": "stdout",
          "text": [
            "[213, 213, 213, 15, 213, 54, 54, 119, 119, 119, 213, 98, 98, 35]\n"
          ]
        }
      ]
    },
    {
      "cell_type": "markdown",
      "source": [
        "Задача2\n",
        "Дана переменная, в которой хранится список поисковых запросов пользователя (пример структуры данных приведен ниже). Вам необходимо написать программу, которая выведет на экран распределение количества слов в запросах в требуемом виде."
      ],
      "metadata": {
        "id": "w-4QeXQptcx_"
      }
    },
    {
      "cell_type": "code",
      "source": [
        "queries = [\n",
        "'смотреть сериалы онлайн',\n",
        "'новости спорта',\n",
        "'афиша кино',\n",
        "'курс доллара',\n",
        "'сериалы этим летом',\n",
        "'курс по питону',\n",
        "'сериалы про спорт'\n",
        "]\n",
        "dict1 = {}\n",
        "for i in queries:\n",
        "  dict1[len(i.split())] = 0\n",
        "\n",
        "for j in queries:\n",
        "  for k,l in dict1.items():\n",
        "    if len(j.split()) == k:\n",
        "      dict1[k] += 1\n",
        "print(dict1)\n",
        "for k,l in dict1.items():\n",
        "  print('Поисковых запросов, содержащих', k,  'слов(а):', l/len(queries) * 100, '%')\n"
      ],
      "metadata": {
        "colab": {
          "base_uri": "https://localhost:8080/"
        },
        "id": "httQGINUxEjJ",
        "outputId": "3336eddf-f62e-4487-e3a6-c2c3336015aa"
      },
      "execution_count": null,
      "outputs": [
        {
          "output_type": "stream",
          "name": "stdout",
          "text": [
            "{3: 4, 2: 3}\n",
            "Поисковых запросов, содержащих 3 слов(а): 57.14285714285714 %\n",
            "Поисковых запросов, содержащих 2 слов(а): 42.857142857142854 %\n"
          ]
        }
      ]
    },
    {
      "cell_type": "markdown",
      "source": [
        "Задача 3\n",
        "Дана переменная, в которой хранится информация о затратах и доходе рекламных кампаний по различным источникам. Необходимо дополнить исходную структуру показателем ROI, который рассчитаем по формуле: (revenue / cost - 1) * 100"
      ],
      "metadata": {
        "id": "j3W4q0meyIr1"
      }
    },
    {
      "cell_type": "code",
      "source": [
        "results = {\n",
        "'vk': {'revenue': 103, 'cost': 98},\n",
        "'yandex': {'revenue': 179, 'cost': 153},\n",
        "'facebook': {'revenue': 103, 'cost': 110},\n",
        "'adwords': {'revenue': 35, 'cost': 34},\n",
        "'twitter': {'revenue': 11, 'cost': 24},\n",
        "}\n",
        "for source in results.keys():\n",
        "    ROI = ((results[source]['revenue'])/(results[source]['cost'])-1) * 100\n",
        "    results[source]['ROI'] = ROI\n",
        "print(results)"
      ],
      "metadata": {
        "colab": {
          "base_uri": "https://localhost:8080/"
        },
        "id": "aJbjkZ3MyQYU",
        "outputId": "735e2656-0d43-40ab-d7dc-4d204b87995d"
      },
      "execution_count": null,
      "outputs": [
        {
          "output_type": "stream",
          "name": "stdout",
          "text": [
            "{'vk': {'revenue': 103, 'cost': 98, 'ROI': 5.102040816326525}, 'yandex': {'revenue': 179, 'cost': 153, 'ROI': 16.99346405228759}, 'facebook': {'revenue': 103, 'cost': 110, 'ROI': -6.36363636363636}, 'adwords': {'revenue': 35, 'cost': 34, 'ROI': 2.941176470588225}, 'twitter': {'revenue': 11, 'cost': 24, 'ROI': -54.16666666666667}}\n"
          ]
        }
      ]
    },
    {
      "cell_type": "markdown",
      "source": [
        "Задание 4\n",
        "Дана переменная, в которой хранится статистика рекламных каналов по объемам продаж (пример структуры данных приведен ниже). Напишите программу, которая возвращает название канала с максимальным объемом продаж."
      ],
      "metadata": {
        "id": "HAIgmySg0iIA"
      }
    },
    {
      "cell_type": "code",
      "source": [
        "stats = {'facebook': 55, 'yandex': 115, 'vk': 120, 'google': 99, 'email': 42, 'ok': 98}\n",
        "max_value = max(stats.values())\n",
        "for i, j in stats.items():\n",
        "    if j == max_value:\n",
        "        print('Максимальный объем продаж на рекламном канале:', i)"
      ],
      "metadata": {
        "colab": {
          "base_uri": "https://localhost:8080/"
        },
        "id": "nXVrppFq0kVK",
        "outputId": "f9996589-fb56-49a7-9170-5368801640b1"
      },
      "execution_count": null,
      "outputs": [
        {
          "output_type": "stream",
          "name": "stdout",
          "text": [
            "Максимальный объем продаж на рекламном канале: vk\n"
          ]
        }
      ]
    }
  ]
}