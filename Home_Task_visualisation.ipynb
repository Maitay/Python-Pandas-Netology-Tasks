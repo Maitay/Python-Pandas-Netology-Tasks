{
  "nbformat": 4,
  "nbformat_minor": 0,
  "metadata": {
    "colab": {
      "provenance": []
    },
    "kernelspec": {
      "name": "python3",
      "display_name": "Python 3"
    },
    "language_info": {
      "name": "python"
    }
  },
  "cells": [
    {
      "cell_type": "code",
      "source": [
        "import pandas as pd\n",
        "import matplotlib.pyplot as plt\n",
        "import seaborn as sns"
      ],
      "metadata": {
        "id": "rrseTR3FPZKz"
      },
      "execution_count": 1,
      "outputs": []
    },
    {
      "cell_type": "code",
      "source": [
        "happiness = pd.read_csv('HappinessAlcoholConsumption.csv')\n",
        "happiness.head(5)"
      ],
      "metadata": {
        "colab": {
          "base_uri": "https://localhost:8080/",
          "height": 333
        },
        "id": "ZfKmgiVIPnNU",
        "outputId": "4c432d79-e889-41f3-b8ac-ecafd0dbe6c5"
      },
      "execution_count": 53,
      "outputs": [
        {
          "output_type": "execute_result",
          "data": {
            "text/plain": [
              "       Country          Region Hemisphere  HappinessScore  HDI  GDP_PerCapita  \\\n",
              "0      Denmark  Western Europe      north           7.526  928         53.579   \n",
              "1  Switzerland  Western Europe      north           7.509  943         79.866   \n",
              "2      Iceland  Western Europe      north           7.501  933         60.530   \n",
              "3       Norway  Western Europe      north           7.498  951         70.890   \n",
              "4      Finland  Western Europe      north           7.413  918         43.433   \n",
              "\n",
              "   Beer_PerCapita  Spirit_PerCapita  Wine_PerCapita  \n",
              "0             224                81             278  \n",
              "1             185               100             280  \n",
              "2             233                61              78  \n",
              "3             169                71             129  \n",
              "4             263               133              97  "
            ],
            "text/html": [
              "\n",
              "  <div id=\"df-5d04327e-f06d-4bfb-8344-9dc19f086e5f\">\n",
              "    <div class=\"colab-df-container\">\n",
              "      <div>\n",
              "<style scoped>\n",
              "    .dataframe tbody tr th:only-of-type {\n",
              "        vertical-align: middle;\n",
              "    }\n",
              "\n",
              "    .dataframe tbody tr th {\n",
              "        vertical-align: top;\n",
              "    }\n",
              "\n",
              "    .dataframe thead th {\n",
              "        text-align: right;\n",
              "    }\n",
              "</style>\n",
              "<table border=\"1\" class=\"dataframe\">\n",
              "  <thead>\n",
              "    <tr style=\"text-align: right;\">\n",
              "      <th></th>\n",
              "      <th>Country</th>\n",
              "      <th>Region</th>\n",
              "      <th>Hemisphere</th>\n",
              "      <th>HappinessScore</th>\n",
              "      <th>HDI</th>\n",
              "      <th>GDP_PerCapita</th>\n",
              "      <th>Beer_PerCapita</th>\n",
              "      <th>Spirit_PerCapita</th>\n",
              "      <th>Wine_PerCapita</th>\n",
              "    </tr>\n",
              "  </thead>\n",
              "  <tbody>\n",
              "    <tr>\n",
              "      <th>0</th>\n",
              "      <td>Denmark</td>\n",
              "      <td>Western Europe</td>\n",
              "      <td>north</td>\n",
              "      <td>7.526</td>\n",
              "      <td>928</td>\n",
              "      <td>53.579</td>\n",
              "      <td>224</td>\n",
              "      <td>81</td>\n",
              "      <td>278</td>\n",
              "    </tr>\n",
              "    <tr>\n",
              "      <th>1</th>\n",
              "      <td>Switzerland</td>\n",
              "      <td>Western Europe</td>\n",
              "      <td>north</td>\n",
              "      <td>7.509</td>\n",
              "      <td>943</td>\n",
              "      <td>79.866</td>\n",
              "      <td>185</td>\n",
              "      <td>100</td>\n",
              "      <td>280</td>\n",
              "    </tr>\n",
              "    <tr>\n",
              "      <th>2</th>\n",
              "      <td>Iceland</td>\n",
              "      <td>Western Europe</td>\n",
              "      <td>north</td>\n",
              "      <td>7.501</td>\n",
              "      <td>933</td>\n",
              "      <td>60.530</td>\n",
              "      <td>233</td>\n",
              "      <td>61</td>\n",
              "      <td>78</td>\n",
              "    </tr>\n",
              "    <tr>\n",
              "      <th>3</th>\n",
              "      <td>Norway</td>\n",
              "      <td>Western Europe</td>\n",
              "      <td>north</td>\n",
              "      <td>7.498</td>\n",
              "      <td>951</td>\n",
              "      <td>70.890</td>\n",
              "      <td>169</td>\n",
              "      <td>71</td>\n",
              "      <td>129</td>\n",
              "    </tr>\n",
              "    <tr>\n",
              "      <th>4</th>\n",
              "      <td>Finland</td>\n",
              "      <td>Western Europe</td>\n",
              "      <td>north</td>\n",
              "      <td>7.413</td>\n",
              "      <td>918</td>\n",
              "      <td>43.433</td>\n",
              "      <td>263</td>\n",
              "      <td>133</td>\n",
              "      <td>97</td>\n",
              "    </tr>\n",
              "  </tbody>\n",
              "</table>\n",
              "</div>\n",
              "      <button class=\"colab-df-convert\" onclick=\"convertToInteractive('df-5d04327e-f06d-4bfb-8344-9dc19f086e5f')\"\n",
              "              title=\"Convert this dataframe to an interactive table.\"\n",
              "              style=\"display:none;\">\n",
              "        \n",
              "  <svg xmlns=\"http://www.w3.org/2000/svg\" height=\"24px\"viewBox=\"0 0 24 24\"\n",
              "       width=\"24px\">\n",
              "    <path d=\"M0 0h24v24H0V0z\" fill=\"none\"/>\n",
              "    <path d=\"M18.56 5.44l.94 2.06.94-2.06 2.06-.94-2.06-.94-.94-2.06-.94 2.06-2.06.94zm-11 1L8.5 8.5l.94-2.06 2.06-.94-2.06-.94L8.5 2.5l-.94 2.06-2.06.94zm10 10l.94 2.06.94-2.06 2.06-.94-2.06-.94-.94-2.06-.94 2.06-2.06.94z\"/><path d=\"M17.41 7.96l-1.37-1.37c-.4-.4-.92-.59-1.43-.59-.52 0-1.04.2-1.43.59L10.3 9.45l-7.72 7.72c-.78.78-.78 2.05 0 2.83L4 21.41c.39.39.9.59 1.41.59.51 0 1.02-.2 1.41-.59l7.78-7.78 2.81-2.81c.8-.78.8-2.07 0-2.86zM5.41 20L4 18.59l7.72-7.72 1.47 1.35L5.41 20z\"/>\n",
              "  </svg>\n",
              "      </button>\n",
              "      \n",
              "  <style>\n",
              "    .colab-df-container {\n",
              "      display:flex;\n",
              "      flex-wrap:wrap;\n",
              "      gap: 12px;\n",
              "    }\n",
              "\n",
              "    .colab-df-convert {\n",
              "      background-color: #E8F0FE;\n",
              "      border: none;\n",
              "      border-radius: 50%;\n",
              "      cursor: pointer;\n",
              "      display: none;\n",
              "      fill: #1967D2;\n",
              "      height: 32px;\n",
              "      padding: 0 0 0 0;\n",
              "      width: 32px;\n",
              "    }\n",
              "\n",
              "    .colab-df-convert:hover {\n",
              "      background-color: #E2EBFA;\n",
              "      box-shadow: 0px 1px 2px rgba(60, 64, 67, 0.3), 0px 1px 3px 1px rgba(60, 64, 67, 0.15);\n",
              "      fill: #174EA6;\n",
              "    }\n",
              "\n",
              "    [theme=dark] .colab-df-convert {\n",
              "      background-color: #3B4455;\n",
              "      fill: #D2E3FC;\n",
              "    }\n",
              "\n",
              "    [theme=dark] .colab-df-convert:hover {\n",
              "      background-color: #434B5C;\n",
              "      box-shadow: 0px 1px 3px 1px rgba(0, 0, 0, 0.15);\n",
              "      filter: drop-shadow(0px 1px 2px rgba(0, 0, 0, 0.3));\n",
              "      fill: #FFFFFF;\n",
              "    }\n",
              "  </style>\n",
              "\n",
              "      <script>\n",
              "        const buttonEl =\n",
              "          document.querySelector('#df-5d04327e-f06d-4bfb-8344-9dc19f086e5f button.colab-df-convert');\n",
              "        buttonEl.style.display =\n",
              "          google.colab.kernel.accessAllowed ? 'block' : 'none';\n",
              "\n",
              "        async function convertToInteractive(key) {\n",
              "          const element = document.querySelector('#df-5d04327e-f06d-4bfb-8344-9dc19f086e5f');\n",
              "          const dataTable =\n",
              "            await google.colab.kernel.invokeFunction('convertToInteractive',\n",
              "                                                     [key], {});\n",
              "          if (!dataTable) return;\n",
              "\n",
              "          const docLinkHtml = 'Like what you see? Visit the ' +\n",
              "            '<a target=\"_blank\" href=https://colab.research.google.com/notebooks/data_table.ipynb>data table notebook</a>'\n",
              "            + ' to learn more about interactive tables.';\n",
              "          element.innerHTML = '';\n",
              "          dataTable['output_type'] = 'display_data';\n",
              "          await google.colab.output.renderOutput(dataTable, element);\n",
              "          const docLink = document.createElement('div');\n",
              "          docLink.innerHTML = docLinkHtml;\n",
              "          element.appendChild(docLink);\n",
              "        }\n",
              "      </script>\n",
              "    </div>\n",
              "  </div>\n",
              "  "
            ]
          },
          "metadata": {},
          "execution_count": 53
        }
      ]
    },
    {
      "cell_type": "code",
      "source": [
        "happiness.info()"
      ],
      "metadata": {
        "colab": {
          "base_uri": "https://localhost:8080/"
        },
        "id": "QdN6X_81snpq",
        "outputId": "218c7685-b205-494d-d380-28b1ede19c80"
      },
      "execution_count": 20,
      "outputs": [
        {
          "output_type": "stream",
          "name": "stdout",
          "text": [
            "<class 'pandas.core.frame.DataFrame'>\n",
            "RangeIndex: 122 entries, 0 to 121\n",
            "Data columns (total 9 columns):\n",
            " #   Column            Non-Null Count  Dtype  \n",
            "---  ------            --------------  -----  \n",
            " 0   Country           122 non-null    object \n",
            " 1   Region            122 non-null    object \n",
            " 2   Hemisphere        122 non-null    object \n",
            " 3   HappinessScore    122 non-null    float64\n",
            " 4   HDI               122 non-null    int64  \n",
            " 5   GDP_PerCapita     122 non-null    float64\n",
            " 6   Beer_PerCapita    122 non-null    int64  \n",
            " 7   Spirit_PerCapita  122 non-null    int64  \n",
            " 8   Wine_PerCapita    122 non-null    int64  \n",
            "dtypes: float64(2), int64(4), object(3)\n",
            "memory usage: 8.7+ KB\n"
          ]
        }
      ]
    },
    {
      "cell_type": "code",
      "source": [
        "#увеличим дефолтный размер графиков\n",
        "from pylab import rcParams\n",
        "rcParams['figure.figsize'] = 11,7"
      ],
      "metadata": {
        "id": "T9zb9tAxk8Uy"
      },
      "execution_count": 29,
      "outputs": []
    },
    {
      "cell_type": "code",
      "source": [
        "#боксплот - уровень счастья в разных странах\n",
        "#тепловая карта по странам и потреблению алкоголя\n",
        "#скэттер есть ли зависимость уровня счастья и ввп в стране\n",
        "#скэттер есть ли зависимость употребления крепкого алкоголя и ввп в странах\n",
        "#скэттер есть ли зависимость употребления крепкого алкоголя и уровня счастья в странах"
      ],
      "metadata": {
        "id": "mLBq99aCQS59"
      },
      "execution_count": null,
      "outputs": []
    },
    {
      "cell_type": "code",
      "source": [
        "#гистограмма - сравнить как часто употребляют пиво/вино/крепкий алкоголь (отдельно) во всех странах\n",
        "happiness['Beer_PerCapita'].plot(kind='hist', alpha = 0.5, bins = 10, density = True)\n",
        "happiness['Spirit_PerCapita'].plot(kind='hist', alpha = 0.5, bins = 10, density = True)\n",
        "happiness['Wine_PerCapita'].plot(kind='hist', alpha = 0.5, bins = 10, density = True)\n",
        "plt.legend(loc = 'upper right')\n",
        "plt.title ('Сравнение частоты потребления различных алкогольных напитков по всему миру')"
      ],
      "metadata": {
        "colab": {
          "base_uri": "https://localhost:8080/",
          "height": 462
        },
        "id": "ZXoXasU7WS0k",
        "outputId": "6644ee47-a5f0-4ee1-a766-391e851a445f"
      },
      "execution_count": 30,
      "outputs": [
        {
          "output_type": "execute_result",
          "data": {
            "text/plain": [
              "Text(0.5, 1.0, 'Сравнение частоты потребления различных алкогольных напитков по всему миру')"
            ]
          },
          "metadata": {},
          "execution_count": 30
        },
        {
          "output_type": "display_data",
          "data": {
            "text/plain": [
              "<Figure size 792x504 with 1 Axes>"
            ],
            "image/png": "[encoded data removed]"
          },
          "metadata": {
            "needs_background": "light"
          }
        }
      ]
    },
    {
      "cell_type": "markdown",
      "source": [
        "Вывод: В большинстве анализируемых стран население потребляет любой тип алкоголь менее чем 50 литров на душу населения. Реже всего (или совсем в малых количествах)потребляется вино. Пиво употребляется в больших объемах чаще других алкогольных напитков."
      ],
      "metadata": {
        "id": "iy5z-MpRlPSe"
      }
    },
    {
      "cell_type": "code",
      "source": [
        "#сгруппируем данные по регионам (найдем среднее потребление по каждому из 3х напитков)\n",
        "alc_by_regions = happiness[['Region','Beer_PerCapita', 'Spirit_PerCapita', 'Wine_PerCapita']].groupby('Region').mean()\n",
        "alc_by_regions"
      ],
      "metadata": {
        "colab": {
          "base_uri": "https://localhost:8080/",
          "height": 359
        },
        "id": "mcKYqPmFnEkJ",
        "outputId": "99217cf6-228e-4e3d-d2b1-745f26ba99e0"
      },
      "execution_count": 44,
      "outputs": [
        {
          "output_type": "execute_result",
          "data": {
            "text/plain": [
              "                                 Beer_PerCapita  Spirit_PerCapita  \\\n",
              "Region                                                              \n",
              "Australia and New Zealand            232.000000         75.500000   \n",
              "Central and Eastern Europe           170.074074        171.777778   \n",
              "Eastern Asia                          93.250000        149.750000   \n",
              "Latin America and Caribbean          159.478261        109.913043   \n",
              "Middle East and Northern Africa       24.818182         41.363636   \n",
              "North America                        244.500000        140.000000   \n",
              "Southeastern Asia                     79.600000        104.600000   \n",
              "Sub-Saharan Africa                    78.464286         20.750000   \n",
              "Western Europe                       216.450000        101.500000   \n",
              "\n",
              "                                 Wine_PerCapita  \n",
              "Region                                           \n",
              "Australia and New Zealand            193.500000  \n",
              "Central and Eastern Europe            83.814815  \n",
              "Eastern Asia                          10.250000  \n",
              "Latin America and Caribbean           35.782609  \n",
              "Middle East and Northern Africa       10.363636  \n",
              "North America                         92.000000  \n",
              "Southeastern Asia                      3.000000  \n",
              "Sub-Saharan Africa                    12.214286  \n",
              "Western Europe                       197.800000  "
            ],
            "text/html": [
              "\n",
              "  <div id=\"df-9b9e090c-dfeb-4a0c-a728-5e91ce6f723d\">\n",
              "    <div class=\"colab-df-container\">\n",
              "      <div>\n",
              "<style scoped>\n",
              "    .dataframe tbody tr th:only-of-type {\n",
              "        vertical-align: middle;\n",
              "    }\n",
              "\n",
              "    .dataframe tbody tr th {\n",
              "        vertical-align: top;\n",
              "    }\n",
              "\n",
              "    .dataframe thead th {\n",
              "        text-align: right;\n",
              "    }\n",
              "</style>\n",
              "<table border=\"1\" class=\"dataframe\">\n",
              "  <thead>\n",
              "    <tr style=\"text-align: right;\">\n",
              "      <th></th>\n",
              "      <th>Beer_PerCapita</th>\n",
              "      <th>Spirit_PerCapita</th>\n",
              "      <th>Wine_PerCapita</th>\n",
              "    </tr>\n",
              "    <tr>\n",
              "      <th>Region</th>\n",
              "      <th></th>\n",
              "      <th></th>\n",
              "      <th></th>\n",
              "    </tr>\n",
              "  </thead>\n",
              "  <tbody>\n",
              "    <tr>\n",
              "      <th>Australia and New Zealand</th>\n",
              "      <td>232.000000</td>\n",
              "      <td>75.500000</td>\n",
              "      <td>193.500000</td>\n",
              "    </tr>\n",
              "    <tr>\n",
              "      <th>Central and Eastern Europe</th>\n",
              "      <td>170.074074</td>\n",
              "      <td>171.777778</td>\n",
              "      <td>83.814815</td>\n",
              "    </tr>\n",
              "    <tr>\n",
              "      <th>Eastern Asia</th>\n",
              "      <td>93.250000</td>\n",
              "      <td>149.750000</td>\n",
              "      <td>10.250000</td>\n",
              "    </tr>\n",
              "    <tr>\n",
              "      <th>Latin America and Caribbean</th>\n",
              "      <td>159.478261</td>\n",
              "      <td>109.913043</td>\n",
              "      <td>35.782609</td>\n",
              "    </tr>\n",
              "    <tr>\n",
              "      <th>Middle East and Northern Africa</th>\n",
              "      <td>24.818182</td>\n",
              "      <td>41.363636</td>\n",
              "      <td>10.363636</td>\n",
              "    </tr>\n",
              "    <tr>\n",
              "      <th>North America</th>\n",
              "      <td>244.500000</td>\n",
              "      <td>140.000000</td>\n",
              "      <td>92.000000</td>\n",
              "    </tr>\n",
              "    <tr>\n",
              "      <th>Southeastern Asia</th>\n",
              "      <td>79.600000</td>\n",
              "      <td>104.600000</td>\n",
              "      <td>3.000000</td>\n",
              "    </tr>\n",
              "    <tr>\n",
              "      <th>Sub-Saharan Africa</th>\n",
              "      <td>78.464286</td>\n",
              "      <td>20.750000</td>\n",
              "      <td>12.214286</td>\n",
              "    </tr>\n",
              "    <tr>\n",
              "      <th>Western Europe</th>\n",
              "      <td>216.450000</td>\n",
              "      <td>101.500000</td>\n",
              "      <td>197.800000</td>\n",
              "    </tr>\n",
              "  </tbody>\n",
              "</table>\n",
              "</div>\n",
              "      <button class=\"colab-df-convert\" onclick=\"convertToInteractive('df-9b9e090c-dfeb-4a0c-a728-5e91ce6f723d')\"\n",
              "              title=\"Convert this dataframe to an interactive table.\"\n",
              "              style=\"display:none;\">\n",
              "        \n",
              "  <svg xmlns=\"http://www.w3.org/2000/svg\" height=\"24px\"viewBox=\"0 0 24 24\"\n",
              "       width=\"24px\">\n",
              "    <path d=\"M0 0h24v24H0V0z\" fill=\"none\"/>\n",
              "    <path d=\"M18.56 5.44l.94 2.06.94-2.06 2.06-.94-2.06-.94-.94-2.06-.94 2.06-2.06.94zm-11 1L8.5 8.5l.94-2.06 2.06-.94-2.06-.94L8.5 2.5l-.94 2.06-2.06.94zm10 10l.94 2.06.94-2.06 2.06-.94-2.06-.94-.94-2.06-.94 2.06-2.06.94z\"/><path d=\"M17.41 7.96l-1.37-1.37c-.4-.4-.92-.59-1.43-.59-.52 0-1.04.2-1.43.59L10.3 9.45l-7.72 7.72c-.78.78-.78 2.05 0 2.83L4 21.41c.39.39.9.59 1.41.59.51 0 1.02-.2 1.41-.59l7.78-7.78 2.81-2.81c.8-.78.8-2.07 0-2.86zM5.41 20L4 18.59l7.72-7.72 1.47 1.35L5.41 20z\"/>\n",
              "  </svg>\n",
              "      </button>\n",
              "      \n",
              "  <style>\n",
              "    .colab-df-container {\n",
              "      display:flex;\n",
              "      flex-wrap:wrap;\n",
              "      gap: 12px;\n",
              "    }\n",
              "\n",
              "    .colab-df-convert {\n",
              "      background-color: #E8F0FE;\n",
              "      border: none;\n",
              "      border-radius: 50%;\n",
              "      cursor: pointer;\n",
              "      display: none;\n",
              "      fill: #1967D2;\n",
              "      height: 32px;\n",
              "      padding: 0 0 0 0;\n",
              "      width: 32px;\n",
              "    }\n",
              "\n",
              "    .colab-df-convert:hover {\n",
              "      background-color: #E2EBFA;\n",
              "      box-shadow: 0px 1px 2px rgba(60, 64, 67, 0.3), 0px 1px 3px 1px rgba(60, 64, 67, 0.15);\n",
              "      fill: #174EA6;\n",
              "    }\n",
              "\n",
              "    [theme=dark] .colab-df-convert {\n",
              "      background-color: #3B4455;\n",
              "      fill: #D2E3FC;\n",
              "    }\n",
              "\n",
              "    [theme=dark] .colab-df-convert:hover {\n",
              "      background-color: #434B5C;\n",
              "      box-shadow: 0px 1px 3px 1px rgba(0, 0, 0, 0.15);\n",
              "      filter: drop-shadow(0px 1px 2px rgba(0, 0, 0, 0.3));\n",
              "      fill: #FFFFFF;\n",
              "    }\n",
              "  </style>\n",
              "\n",
              "      <script>\n",
              "        const buttonEl =\n",
              "          document.querySelector('#df-9b9e090c-dfeb-4a0c-a728-5e91ce6f723d button.colab-df-convert');\n",
              "        buttonEl.style.display =\n",
              "          google.colab.kernel.accessAllowed ? 'block' : 'none';\n",
              "\n",
              "        async function convertToInteractive(key) {\n",
              "          const element = document.querySelector('#df-9b9e090c-dfeb-4a0c-a728-5e91ce6f723d');\n",
              "          const dataTable =\n",
              "            await google.colab.kernel.invokeFunction('convertToInteractive',\n",
              "                                                     [key], {});\n",
              "          if (!dataTable) return;\n",
              "\n",
              "          const docLinkHtml = 'Like what you see? Visit the ' +\n",
              "            '<a target=\"_blank\" href=https://colab.research.google.com/notebooks/data_table.ipynb>data table notebook</a>'\n",
              "            + ' to learn more about interactive tables.';\n",
              "          element.innerHTML = '';\n",
              "          dataTable['output_type'] = 'display_data';\n",
              "          await google.colab.output.renderOutput(dataTable, element);\n",
              "          const docLink = document.createElement('div');\n",
              "          docLink.innerHTML = docLinkHtml;\n",
              "          element.appendChild(docLink);\n",
              "        }\n",
              "      </script>\n",
              "    </div>\n",
              "  </div>\n",
              "  "
            ]
          },
          "metadata": {},
          "execution_count": 44
        }
      ]
    },
    {
      "cell_type": "code",
      "source": [
        "#столбчатая диаграмма употребление разных видов алкоголя в среднем по регионам\n",
        "alc_by_regions.plot(kind='bar',stacked=True)"
      ],
      "metadata": {
        "colab": {
          "base_uri": "https://localhost:8080/",
          "height": 609
        },
        "id": "nShpI6EmodBG",
        "outputId": "9380d2e0-3509-41f4-d4b5-ce37929d2149"
      },
      "execution_count": 45,
      "outputs": [
        {
          "output_type": "execute_result",
          "data": {
            "text/plain": [
              "<matplotlib.axes._subplots.AxesSubplot at 0x7fa35229c040>"
            ]
          },
          "metadata": {},
          "execution_count": 45
        },
        {
          "output_type": "display_data",
          "data": {
            "text/plain": [
              "<Figure size 792x504 with 1 Axes>"
            ],
            "image/png": "[encoded data removed]"
          },
          "metadata": {
            "needs_background": "light"
          }
        }
      ]
    },
    {
      "cell_type": "markdown",
      "source": [
        "Больше всего алкоголя на душу населения потребляется в Западной Европе, Австралии и Северной Америке, причем\n",
        "пиво является наиболее популярным напитком. Однако,в  центральной и Восточной Европе и Восточной Азии выпивают больше крепкого\n",
        "алкоголя, чем где-либо. Практически не потребляется алкоголь в странах Ближнего Востока и Северной Африке."
      ],
      "metadata": {
        "id": "adO7uAClACJA"
      }
    },
    {
      "cell_type": "code",
      "source": [
        "#есть ли зависимость уровня счастья и ввп в стране\n",
        "sns.regplot(data=happiness, x = 'GDP_PerCapita', y = 'HappinessScore')"
      ],
      "metadata": {
        "colab": {
          "base_uri": "https://localhost:8080/",
          "height": 460
        },
        "id": "6gMHww43sVaA",
        "outputId": "87234801-95e1-4f1d-e20e-47456a5be6a1"
      },
      "execution_count": 58,
      "outputs": [
        {
          "output_type": "execute_result",
          "data": {
            "text/plain": [
              "<matplotlib.axes._subplots.AxesSubplot at 0x7fa35207f7c0>"
            ]
          },
          "metadata": {},
          "execution_count": 58
        },
        {
          "output_type": "display_data",
          "data": {
            "text/plain": [
              "<Figure size 792x504 with 1 Axes>"
            ],
            "image/png": "[encoded data removed]"
          },
          "metadata": {
            "needs_background": "light"
          }
        }
      ]
    },
    {
      "cell_type": "markdown",
      "source": [
        "Нам сложно проследить наличие корреляции на графике выше из-за наличия выбросов по показателям ВВП. Проанализировав выбросы, можно увидеть что скорее всего в данных имеютс яошибки, так как Африканские страны не могут иметь самый высокий уровень ВВП в мире. Однако, мы можем лимитировать ось Х чтобы понять есть ли корреляция."
      ],
      "metadata": {
        "id": "8RNyJ321urfw"
      }
    },
    {
      "cell_type": "code",
      "source": [
        "sns.regplot(data=happiness, x = 'GDP_PerCapita', y = 'HappinessScore', color = 'red')\n",
        "plt.title('Зависимость уровня счастья и ВВП в стране')\n",
        "plt.xlim(0,100)"
      ],
      "metadata": {
        "colab": {
          "base_uri": "https://localhost:8080/",
          "height": 476
        },
        "id": "VHN_jB14uoDc",
        "outputId": "ed344eb1-c8d0-4360-fc85-f5cc9a27c14a"
      },
      "execution_count": 61,
      "outputs": [
        {
          "output_type": "execute_result",
          "data": {
            "text/plain": [
              "(0.0, 100.0)"
            ]
          },
          "metadata": {},
          "execution_count": 61
        },
        {
          "output_type": "display_data",
          "data": {
            "text/plain": [
              "<Figure size 792x504 with 1 Axes>"
            ],
            "image/png": "[encoded data removed]"
          },
          "metadata": {
            "needs_background": "light"
          }
        }
      ]
    },
    {
      "cell_type": "markdown",
      "source": [
        "Просматривается прямая корреляция - мы не видим стран, в которых при высоком ВВП уровень счастья был бы низок. \n",
        "При этом, наличие точек в вернем левом углу говорит о том, что есть страны, в котором при низком ВВП уровень\n",
        "счастья все равно высок."
      ],
      "metadata": {
        "id": "aK9-PZqZAHVG"
      }
    },
    {
      "cell_type": "code",
      "source": [
        "#есть ли зависимость  в стране и употребления крепкого алкоголя\n",
        "happiness['SumAlc_PerCapita'] = happiness['Beer_PerCapita']+happiness['Spirit_PerCapita']+happiness['Wine_PerCapita']\n",
        "sns.regplot(data=happiness, x = 'HappinessScore', y = 'SumAlc_PerCapita', color = 'brown')\n",
        "plt.title('Зависимость уровня счастья и потребления алкоголя в стране')"
      ],
      "metadata": {
        "id": "Qy9qD1-Nv81c",
        "outputId": "82f00123-e870-4587-a98b-660385cfd152",
        "colab": {
          "base_uri": "https://localhost:8080/",
          "height": 476
        }
      },
      "execution_count": 88,
      "outputs": [
        {
          "output_type": "execute_result",
          "data": {
            "text/plain": [
              "Text(0.5, 1.0, 'Зависимость уровня счастья и потребления алкоголя в стране')"
            ]
          },
          "metadata": {},
          "execution_count": 88
        },
        {
          "output_type": "display_data",
          "data": {
            "text/plain": [
              "<Figure size 792x504 with 1 Axes>"
            ],
            "image/png": "[encoded data removed]"
          },
          "metadata": {
            "needs_background": "light"
          }
        }
      ]
    },
    {
      "cell_type": "markdown",
      "source": [
        "Значения распределены по всем областям графика, однако, мы можем заметить, что страны, в которых уровень потребления\n",
        "алкоголя мал, уровень счастья более низок. Нельзя делать однозначные выводы о такой наличии зависимости, так как\n",
        "имеются и немало исключений из этой гипотезы. Возможно, следует исследовать каждый регион в отдельности."
      ],
      "metadata": {
        "id": "usyLKZn8ALWL"
      }
    },
    {
      "cell_type": "code",
      "source": [
        "#Посмотрим в отдельности на регион, где потребляется больше всего алкоголя в среднем:\n",
        "western_europe = happiness[happiness['Region']=='Western Europe']\n",
        "western_europe"
      ],
      "metadata": {
        "id": "xhnM1GHB3hMN",
        "outputId": "508fa2be-e762-4937-c3ef-368af1f0ed24",
        "colab": {
          "base_uri": "https://localhost:8080/",
          "height": 1000
        }
      },
      "execution_count": 73,
      "outputs": [
        {
          "output_type": "execute_result",
          "data": {
            "text/plain": [
              "           Country          Region Hemisphere  HappinessScore  HDI  \\\n",
              "0          Denmark  Western Europe      north           7.526  928   \n",
              "1      Switzerland  Western Europe      north           7.509  943   \n",
              "2          Iceland  Western Europe      north           7.501  933   \n",
              "3           Norway  Western Europe      north           7.498  951   \n",
              "4          Finland  Western Europe      north           7.413  918   \n",
              "6      Netherlands  Western Europe      north           7.339  928   \n",
              "9           Sweden  Western Europe      north           7.291  932   \n",
              "11         Austria  Western Europe      north           7.119  906   \n",
              "14         Germany  Western Europe      north           6.994  934   \n",
              "16         Belgium  Western Europe      north           6.929  915   \n",
              "17         Ireland  Western Europe      north           6.907  934   \n",
              "18      Luxembourg  Western Europe      north           6.871  904   \n",
              "21  United Kingdom  Western Europe      north           6.725  920   \n",
              "28           Malta  Western Europe      north           6.488  875   \n",
              "30          France  Western Europe      north           6.478  899   \n",
              "33           Spain  Western Europe      north           6.361  889   \n",
              "43           Italy  Western Europe      north           5.977  878   \n",
              "60          Cyprus  Western Europe      north           5.546  867   \n",
              "79        Portugal  Western Europe      north           5.123  845   \n",
              "83          Greece  Western Europe      north           5.033  868   \n",
              "\n",
              "    GDP_PerCapita  Beer_PerCapita  Spirit_PerCapita  Wine_PerCapita  \\\n",
              "0          53.579             224                81             278   \n",
              "1          79.866             185               100             280   \n",
              "2          60.530             233                61              78   \n",
              "3          70.890             169                71             129   \n",
              "4          43.433             263               133              97   \n",
              "6          45.638             251                88             190   \n",
              "9          51.845             152                60             186   \n",
              "11         44.731             279                75             191   \n",
              "14         42.233             346               117             175   \n",
              "16         41.261             295                84             212   \n",
              "17         64.100             313               118             165   \n",
              "18        100.739             236               133             271   \n",
              "21         40.412             219               126             195   \n",
              "28         24.771             149               100             120   \n",
              "30         36.870             127               151             370   \n",
              "33         26.617             284               157             112   \n",
              "43         30.669              85                42             237   \n",
              "60         23.541             192               154             113   \n",
              "79         19.872             194                67             339   \n",
              "83         17.882             133               112             218   \n",
              "\n",
              "    SumAlc_PerCapita  \n",
              "0                583  \n",
              "1                565  \n",
              "2                372  \n",
              "3                369  \n",
              "4                493  \n",
              "6                529  \n",
              "9                398  \n",
              "11               545  \n",
              "14               638  \n",
              "16               591  \n",
              "17               596  \n",
              "18               640  \n",
              "21               540  \n",
              "28               369  \n",
              "30               648  \n",
              "33               553  \n",
              "43               364  \n",
              "60               459  \n",
              "79               600  \n",
              "83               463  "
            ],
            "text/html": [
              "\n",
              "  <div id=\"df-9575728e-b939-46ef-9bc2-ef7295e71ae3\">\n",
              "    <div class=\"colab-df-container\">\n",
              "      <div>\n",
              "<style scoped>\n",
              "    .dataframe tbody tr th:only-of-type {\n",
              "        vertical-align: middle;\n",
              "    }\n",
              "\n",
              "    .dataframe tbody tr th {\n",
              "        vertical-align: top;\n",
              "    }\n",
              "\n",
              "    .dataframe thead th {\n",
              "        text-align: right;\n",
              "    }\n",
              "</style>\n",
              "<table border=\"1\" class=\"dataframe\">\n",
              "  <thead>\n",
              "    <tr style=\"text-align: right;\">\n",
              "      <th></th>\n",
              "      <th>Country</th>\n",
              "      <th>Region</th>\n",
              "      <th>Hemisphere</th>\n",
              "      <th>HappinessScore</th>\n",
              "      <th>HDI</th>\n",
              "      <th>GDP_PerCapita</th>\n",
              "      <th>Beer_PerCapita</th>\n",
              "      <th>Spirit_PerCapita</th>\n",
              "      <th>Wine_PerCapita</th>\n",
              "      <th>SumAlc_PerCapita</th>\n",
              "    </tr>\n",
              "  </thead>\n",
              "  <tbody>\n",
              "    <tr>\n",
              "      <th>0</th>\n",
              "      <td>Denmark</td>\n",
              "      <td>Western Europe</td>\n",
              "      <td>north</td>\n",
              "      <td>7.526</td>\n",
              "      <td>928</td>\n",
              "      <td>53.579</td>\n",
              "      <td>224</td>\n",
              "      <td>81</td>\n",
              "      <td>278</td>\n",
              "      <td>583</td>\n",
              "    </tr>\n",
              "    <tr>\n",
              "      <th>1</th>\n",
              "      <td>Switzerland</td>\n",
              "      <td>Western Europe</td>\n",
              "      <td>north</td>\n",
              "      <td>7.509</td>\n",
              "      <td>943</td>\n",
              "      <td>79.866</td>\n",
              "      <td>185</td>\n",
              "      <td>100</td>\n",
              "      <td>280</td>\n",
              "      <td>565</td>\n",
              "    </tr>\n",
              "    <tr>\n",
              "      <th>2</th>\n",
              "      <td>Iceland</td>\n",
              "      <td>Western Europe</td>\n",
              "      <td>north</td>\n",
              "      <td>7.501</td>\n",
              "      <td>933</td>\n",
              "      <td>60.530</td>\n",
              "      <td>233</td>\n",
              "      <td>61</td>\n",
              "      <td>78</td>\n",
              "      <td>372</td>\n",
              "    </tr>\n",
              "    <tr>\n",
              "      <th>3</th>\n",
              "      <td>Norway</td>\n",
              "      <td>Western Europe</td>\n",
              "      <td>north</td>\n",
              "      <td>7.498</td>\n",
              "      <td>951</td>\n",
              "      <td>70.890</td>\n",
              "      <td>169</td>\n",
              "      <td>71</td>\n",
              "      <td>129</td>\n",
              "      <td>369</td>\n",
              "    </tr>\n",
              "    <tr>\n",
              "      <th>4</th>\n",
              "      <td>Finland</td>\n",
              "      <td>Western Europe</td>\n",
              "      <td>north</td>\n",
              "      <td>7.413</td>\n",
              "      <td>918</td>\n",
              "      <td>43.433</td>\n",
              "      <td>263</td>\n",
              "      <td>133</td>\n",
              "      <td>97</td>\n",
              "      <td>493</td>\n",
              "    </tr>\n",
              "    <tr>\n",
              "      <th>6</th>\n",
              "      <td>Netherlands</td>\n",
              "      <td>Western Europe</td>\n",
              "      <td>north</td>\n",
              "      <td>7.339</td>\n",
              "      <td>928</td>\n",
              "      <td>45.638</td>\n",
              "      <td>251</td>\n",
              "      <td>88</td>\n",
              "      <td>190</td>\n",
              "      <td>529</td>\n",
              "    </tr>\n",
              "    <tr>\n",
              "      <th>9</th>\n",
              "      <td>Sweden</td>\n",
              "      <td>Western Europe</td>\n",
              "      <td>north</td>\n",
              "      <td>7.291</td>\n",
              "      <td>932</td>\n",
              "      <td>51.845</td>\n",
              "      <td>152</td>\n",
              "      <td>60</td>\n",
              "      <td>186</td>\n",
              "      <td>398</td>\n",
              "    </tr>\n",
              "    <tr>\n",
              "      <th>11</th>\n",
              "      <td>Austria</td>\n",
              "      <td>Western Europe</td>\n",
              "      <td>north</td>\n",
              "      <td>7.119</td>\n",
              "      <td>906</td>\n",
              "      <td>44.731</td>\n",
              "      <td>279</td>\n",
              "      <td>75</td>\n",
              "      <td>191</td>\n",
              "      <td>545</td>\n",
              "    </tr>\n",
              "    <tr>\n",
              "      <th>14</th>\n",
              "      <td>Germany</td>\n",
              "      <td>Western Europe</td>\n",
              "      <td>north</td>\n",
              "      <td>6.994</td>\n",
              "      <td>934</td>\n",
              "      <td>42.233</td>\n",
              "      <td>346</td>\n",
              "      <td>117</td>\n",
              "      <td>175</td>\n",
              "      <td>638</td>\n",
              "    </tr>\n",
              "    <tr>\n",
              "      <th>16</th>\n",
              "      <td>Belgium</td>\n",
              "      <td>Western Europe</td>\n",
              "      <td>north</td>\n",
              "      <td>6.929</td>\n",
              "      <td>915</td>\n",
              "      <td>41.261</td>\n",
              "      <td>295</td>\n",
              "      <td>84</td>\n",
              "      <td>212</td>\n",
              "      <td>591</td>\n",
              "    </tr>\n",
              "    <tr>\n",
              "      <th>17</th>\n",
              "      <td>Ireland</td>\n",
              "      <td>Western Europe</td>\n",
              "      <td>north</td>\n",
              "      <td>6.907</td>\n",
              "      <td>934</td>\n",
              "      <td>64.100</td>\n",
              "      <td>313</td>\n",
              "      <td>118</td>\n",
              "      <td>165</td>\n",
              "      <td>596</td>\n",
              "    </tr>\n",
              "    <tr>\n",
              "      <th>18</th>\n",
              "      <td>Luxembourg</td>\n",
              "      <td>Western Europe</td>\n",
              "      <td>north</td>\n",
              "      <td>6.871</td>\n",
              "      <td>904</td>\n",
              "      <td>100.739</td>\n",
              "      <td>236</td>\n",
              "      <td>133</td>\n",
              "      <td>271</td>\n",
              "      <td>640</td>\n",
              "    </tr>\n",
              "    <tr>\n",
              "      <th>21</th>\n",
              "      <td>United Kingdom</td>\n",
              "      <td>Western Europe</td>\n",
              "      <td>north</td>\n",
              "      <td>6.725</td>\n",
              "      <td>920</td>\n",
              "      <td>40.412</td>\n",
              "      <td>219</td>\n",
              "      <td>126</td>\n",
              "      <td>195</td>\n",
              "      <td>540</td>\n",
              "    </tr>\n",
              "    <tr>\n",
              "      <th>28</th>\n",
              "      <td>Malta</td>\n",
              "      <td>Western Europe</td>\n",
              "      <td>north</td>\n",
              "      <td>6.488</td>\n",
              "      <td>875</td>\n",
              "      <td>24.771</td>\n",
              "      <td>149</td>\n",
              "      <td>100</td>\n",
              "      <td>120</td>\n",
              "      <td>369</td>\n",
              "    </tr>\n",
              "    <tr>\n",
              "      <th>30</th>\n",
              "      <td>France</td>\n",
              "      <td>Western Europe</td>\n",
              "      <td>north</td>\n",
              "      <td>6.478</td>\n",
              "      <td>899</td>\n",
              "      <td>36.870</td>\n",
              "      <td>127</td>\n",
              "      <td>151</td>\n",
              "      <td>370</td>\n",
              "      <td>648</td>\n",
              "    </tr>\n",
              "    <tr>\n",
              "      <th>33</th>\n",
              "      <td>Spain</td>\n",
              "      <td>Western Europe</td>\n",
              "      <td>north</td>\n",
              "      <td>6.361</td>\n",
              "      <td>889</td>\n",
              "      <td>26.617</td>\n",
              "      <td>284</td>\n",
              "      <td>157</td>\n",
              "      <td>112</td>\n",
              "      <td>553</td>\n",
              "    </tr>\n",
              "    <tr>\n",
              "      <th>43</th>\n",
              "      <td>Italy</td>\n",
              "      <td>Western Europe</td>\n",
              "      <td>north</td>\n",
              "      <td>5.977</td>\n",
              "      <td>878</td>\n",
              "      <td>30.669</td>\n",
              "      <td>85</td>\n",
              "      <td>42</td>\n",
              "      <td>237</td>\n",
              "      <td>364</td>\n",
              "    </tr>\n",
              "    <tr>\n",
              "      <th>60</th>\n",
              "      <td>Cyprus</td>\n",
              "      <td>Western Europe</td>\n",
              "      <td>north</td>\n",
              "      <td>5.546</td>\n",
              "      <td>867</td>\n",
              "      <td>23.541</td>\n",
              "      <td>192</td>\n",
              "      <td>154</td>\n",
              "      <td>113</td>\n",
              "      <td>459</td>\n",
              "    </tr>\n",
              "    <tr>\n",
              "      <th>79</th>\n",
              "      <td>Portugal</td>\n",
              "      <td>Western Europe</td>\n",
              "      <td>north</td>\n",
              "      <td>5.123</td>\n",
              "      <td>845</td>\n",
              "      <td>19.872</td>\n",
              "      <td>194</td>\n",
              "      <td>67</td>\n",
              "      <td>339</td>\n",
              "      <td>600</td>\n",
              "    </tr>\n",
              "    <tr>\n",
              "      <th>83</th>\n",
              "      <td>Greece</td>\n",
              "      <td>Western Europe</td>\n",
              "      <td>north</td>\n",
              "      <td>5.033</td>\n",
              "      <td>868</td>\n",
              "      <td>17.882</td>\n",
              "      <td>133</td>\n",
              "      <td>112</td>\n",
              "      <td>218</td>\n",
              "      <td>463</td>\n",
              "    </tr>\n",
              "  </tbody>\n",
              "</table>\n",
              "</div>\n",
              "      <button class=\"colab-df-convert\" onclick=\"convertToInteractive('df-9575728e-b939-46ef-9bc2-ef7295e71ae3')\"\n",
              "              title=\"Convert this dataframe to an interactive table.\"\n",
              "              style=\"display:none;\">\n",
              "        \n",
              "  <svg xmlns=\"http://www.w3.org/2000/svg\" height=\"24px\"viewBox=\"0 0 24 24\"\n",
              "       width=\"24px\">\n",
              "    <path d=\"M0 0h24v24H0V0z\" fill=\"none\"/>\n",
              "    <path d=\"M18.56 5.44l.94 2.06.94-2.06 2.06-.94-2.06-.94-.94-2.06-.94 2.06-2.06.94zm-11 1L8.5 8.5l.94-2.06 2.06-.94-2.06-.94L8.5 2.5l-.94 2.06-2.06.94zm10 10l.94 2.06.94-2.06 2.06-.94-2.06-.94-.94-2.06-.94 2.06-2.06.94z\"/><path d=\"M17.41 7.96l-1.37-1.37c-.4-.4-.92-.59-1.43-.59-.52 0-1.04.2-1.43.59L10.3 9.45l-7.72 7.72c-.78.78-.78 2.05 0 2.83L4 21.41c.39.39.9.59 1.41.59.51 0 1.02-.2 1.41-.59l7.78-7.78 2.81-2.81c.8-.78.8-2.07 0-2.86zM5.41 20L4 18.59l7.72-7.72 1.47 1.35L5.41 20z\"/>\n",
              "  </svg>\n",
              "      </button>\n",
              "      \n",
              "  <style>\n",
              "    .colab-df-container {\n",
              "      display:flex;\n",
              "      flex-wrap:wrap;\n",
              "      gap: 12px;\n",
              "    }\n",
              "\n",
              "    .colab-df-convert {\n",
              "      background-color: #E8F0FE;\n",
              "      border: none;\n",
              "      border-radius: 50%;\n",
              "      cursor: pointer;\n",
              "      display: none;\n",
              "      fill: #1967D2;\n",
              "      height: 32px;\n",
              "      padding: 0 0 0 0;\n",
              "      width: 32px;\n",
              "    }\n",
              "\n",
              "    .colab-df-convert:hover {\n",
              "      background-color: #E2EBFA;\n",
              "      box-shadow: 0px 1px 2px rgba(60, 64, 67, 0.3), 0px 1px 3px 1px rgba(60, 64, 67, 0.15);\n",
              "      fill: #174EA6;\n",
              "    }\n",
              "\n",
              "    [theme=dark] .colab-df-convert {\n",
              "      background-color: #3B4455;\n",
              "      fill: #D2E3FC;\n",
              "    }\n",
              "\n",
              "    [theme=dark] .colab-df-convert:hover {\n",
              "      background-color: #434B5C;\n",
              "      box-shadow: 0px 1px 3px 1px rgba(0, 0, 0, 0.15);\n",
              "      filter: drop-shadow(0px 1px 2px rgba(0, 0, 0, 0.3));\n",
              "      fill: #FFFFFF;\n",
              "    }\n",
              "  </style>\n",
              "\n",
              "      <script>\n",
              "        const buttonEl =\n",
              "          document.querySelector('#df-9575728e-b939-46ef-9bc2-ef7295e71ae3 button.colab-df-convert');\n",
              "        buttonEl.style.display =\n",
              "          google.colab.kernel.accessAllowed ? 'block' : 'none';\n",
              "\n",
              "        async function convertToInteractive(key) {\n",
              "          const element = document.querySelector('#df-9575728e-b939-46ef-9bc2-ef7295e71ae3');\n",
              "          const dataTable =\n",
              "            await google.colab.kernel.invokeFunction('convertToInteractive',\n",
              "                                                     [key], {});\n",
              "          if (!dataTable) return;\n",
              "\n",
              "          const docLinkHtml = 'Like what you see? Visit the ' +\n",
              "            '<a target=\"_blank\" href=https://colab.research.google.com/notebooks/data_table.ipynb>data table notebook</a>'\n",
              "            + ' to learn more about interactive tables.';\n",
              "          element.innerHTML = '';\n",
              "          dataTable['output_type'] = 'display_data';\n",
              "          await google.colab.output.renderOutput(dataTable, element);\n",
              "          const docLink = document.createElement('div');\n",
              "          docLink.innerHTML = docLinkHtml;\n",
              "          element.appendChild(docLink);\n",
              "        }\n",
              "      </script>\n",
              "    </div>\n",
              "  </div>\n",
              "  "
            ]
          },
          "metadata": {},
          "execution_count": 73
        }
      ]
    },
    {
      "cell_type": "code",
      "source": [
        "#Построим боксплот, показывающий распределение счастья по Западной Европе\n",
        "western_europe['HappinessScore'].plot(kind='box', title = 'Распределение уровня счастья по Западной Европе', grid = True)"
      ],
      "metadata": {
        "id": "5biT4DLW73Z8",
        "outputId": "121ba545-b369-412a-90e0-050a604feeb4",
        "colab": {
          "base_uri": "https://localhost:8080/",
          "height": 461
        }
      },
      "execution_count": 86,
      "outputs": [
        {
          "output_type": "execute_result",
          "data": {
            "text/plain": [
              "<matplotlib.axes._subplots.AxesSubplot at 0x7fa351e43c70>"
            ]
          },
          "metadata": {},
          "execution_count": 86
        },
        {
          "output_type": "display_data",
          "data": {
            "text/plain": [
              "<Figure size 792x504 with 1 Axes>"
            ],
            "image/png": "[encoded data removed]"
          },
          "metadata": {
            "needs_background": "light"
          }
        }
      ]
    },
    {
      "cell_type": "markdown",
      "source": [
        "Медиана близка к 7, третий квартиль находится выше 7,5. Есть один недалекий выброс, который находится недалеко от нижнего квартиля. В целом, во всех странах Западной Европы показатели уровня счастья выше среднего."
      ],
      "metadata": {
        "id": "TZ7RP9Pw9LBf"
      }
    },
    {
      "cell_type": "code",
      "source": [
        "western_europe_consump = western_europe[['Country','Beer_PerCapita', 'Spirit_PerCapita', 'Wine_PerCapita']].groupby('Country').mean()"
      ],
      "metadata": {
        "id": "BCruqxhm6pBR"
      },
      "execution_count": 81,
      "outputs": []
    },
    {
      "cell_type": "code",
      "source": [
        "western_europe_consump.plot(kind='bar',stacked=True)\n",
        "plt.title('Сравнение потребления алкоголя в разных странах Западной Европы')"
      ],
      "metadata": {
        "id": "miK7wOIA6het",
        "outputId": "e32f825a-e7a7-43a9-809b-54478fbe54d2",
        "colab": {
          "base_uri": "https://localhost:8080/",
          "height": 546
        }
      },
      "execution_count": 87,
      "outputs": [
        {
          "output_type": "execute_result",
          "data": {
            "text/plain": [
              "Text(0.5, 1.0, 'Сравнение потребления алкоголя в разных странах Западной Европы')"
            ]
          },
          "metadata": {},
          "execution_count": 87
        },
        {
          "output_type": "display_data",
          "data": {
            "text/plain": [
              "<Figure size 792x504 with 1 Axes>"
            ],
            "image/png": "[encoded data removed]"
          },
          "metadata": {
            "needs_background": "light"
          }
        }
      ]
    },
    {
      "cell_type": "markdown",
      "source": [
        "Мы видим из графика, что Франция, Люксенбург и Германия являются странами, употребляющими наибольшее количество алкоголя. Страны, где употребляется меньше всего алкоголя - это Италия, Исландия, Мальта и Норвегия."
      ],
      "metadata": {
        "id": "dqsh19DC95z_"
      }
    }
  ]
}